{
 "cells": [
  {
   "cell_type": "code",
   "execution_count": 3,
   "metadata": {},
   "outputs": [],
   "source": [
    "import os\n",
    "import importlib as imp\n",
    "import pandas as pd\n",
    "import keras_tuner as kt\n",
    "import matplotlib.pyplot as plt \n",
    "import tensorflow as tf\n",
    "from tensorflow.keras.callbacks import EarlyStopping\n",
    "import numpy as np\n",
    "\n",
    "from Script import path_handler as ph\n",
    "from Script import data_processing as dp\n",
    "from Script import models"
   ]
  },
  {
   "cell_type": "code",
   "execution_count": 12,
   "metadata": {},
   "outputs": [
    {
     "data": {
      "text/plain": [
       "<module 'Script.models' from 'c:\\\\Users\\\\User\\\\Desktop\\\\Jupyter\\\\TA\\\\FlutterStabilityClassification\\\\Script\\\\models.py'>"
      ]
     },
     "execution_count": 12,
     "metadata": {},
     "output_type": "execute_result"
    }
   ],
   "source": [
    "imp.reload(ph)\n",
    "imp.reload(dp)\n",
    "imp.reload(models)"
   ]
  },
  {
   "cell_type": "code",
   "execution_count": 5,
   "metadata": {},
   "outputs": [],
   "source": [
    "data = dp.scan()\n",
    "label = data[:,2]\n",
    "input = data[:,:2]\n",
    "X_train, X_val, y_train, y_val = dp.train_val_split(input, label)"
   ]
  },
  {
   "cell_type": "code",
   "execution_count": 4,
   "metadata": {},
   "outputs": [],
   "source": [
    "max_epoch= 100\n",
    "callbacks = [\n",
    "        EarlyStopping(\n",
    "            monitor='val_Accuracy',\n",
    "            min_delta=1e-5,\n",
    "            patience=30,\n",
    "            verbose=1,\n",
    "            mode='max',\n",
    "            restore_best_weights= True\n",
    "        )]\n",
    "def confusion_matrix(labels, predictions):\n",
    "    return tf.math.confusion_matrix(labels,predictions)"
   ]
  },
  {
   "cell_type": "code",
   "execution_count": 6,
   "metadata": {},
   "outputs": [
    {
     "name": "stdout",
     "output_type": "stream",
     "text": [
      "Epoch 1/100\n",
      "6/6 [==============================] - 2s 89ms/step - loss: 0.6720 - Accuracy: 0.7349 - val_loss: 0.6566 - val_Accuracy: 0.8194\n",
      "Epoch 2/100\n",
      "6/6 [==============================] - 0s 18ms/step - loss: 0.6614 - Accuracy: 0.6988 - val_loss: 0.6456 - val_Accuracy: 0.8194\n",
      "Epoch 3/100\n",
      "6/6 [==============================] - 0s 18ms/step - loss: 0.6539 - Accuracy: 0.7048 - val_loss: 0.6351 - val_Accuracy: 0.7917\n",
      "Epoch 4/100\n",
      "6/6 [==============================] - 0s 19ms/step - loss: 0.6458 - Accuracy: 0.6807 - val_loss: 0.6264 - val_Accuracy: 0.7083\n",
      "Epoch 5/100\n",
      "6/6 [==============================] - 0s 22ms/step - loss: 0.6398 - Accuracy: 0.6807 - val_loss: 0.6184 - val_Accuracy: 0.7361\n",
      "Epoch 6/100\n",
      "6/6 [==============================] - 0s 19ms/step - loss: 0.6346 - Accuracy: 0.6747 - val_loss: 0.6109 - val_Accuracy: 0.7361\n",
      "Epoch 7/100\n",
      "6/6 [==============================] - 0s 22ms/step - loss: 0.6287 - Accuracy: 0.6747 - val_loss: 0.6036 - val_Accuracy: 0.7361\n",
      "Epoch 8/100\n",
      "6/6 [==============================] - 0s 22ms/step - loss: 0.6234 - Accuracy: 0.6747 - val_loss: 0.5963 - val_Accuracy: 0.7222\n",
      "Epoch 9/100\n",
      "6/6 [==============================] - 0s 21ms/step - loss: 0.6171 - Accuracy: 0.6928 - val_loss: 0.5903 - val_Accuracy: 0.8194\n",
      "Epoch 10/100\n",
      "6/6 [==============================] - 0s 22ms/step - loss: 0.6131 - Accuracy: 0.7048 - val_loss: 0.5853 - val_Accuracy: 0.8194\n",
      "Epoch 11/100\n",
      "6/6 [==============================] - 0s 21ms/step - loss: 0.6094 - Accuracy: 0.7289 - val_loss: 0.5800 - val_Accuracy: 0.8194\n",
      "Epoch 12/100\n",
      "6/6 [==============================] - 0s 25ms/step - loss: 0.6045 - Accuracy: 0.7229 - val_loss: 0.5734 - val_Accuracy: 0.8333\n",
      "Epoch 13/100\n",
      "6/6 [==============================] - 0s 18ms/step - loss: 0.5993 - Accuracy: 0.7229 - val_loss: 0.5672 - val_Accuracy: 0.8194\n",
      "Epoch 14/100\n",
      "6/6 [==============================] - 0s 23ms/step - loss: 0.5950 - Accuracy: 0.7289 - val_loss: 0.5614 - val_Accuracy: 0.8194\n",
      "Epoch 15/100\n",
      "6/6 [==============================] - 0s 21ms/step - loss: 0.5913 - Accuracy: 0.7048 - val_loss: 0.5555 - val_Accuracy: 0.8056\n",
      "Epoch 16/100\n",
      "6/6 [==============================] - 0s 25ms/step - loss: 0.5867 - Accuracy: 0.6928 - val_loss: 0.5500 - val_Accuracy: 0.8194\n",
      "Epoch 17/100\n",
      "6/6 [==============================] - 0s 22ms/step - loss: 0.5839 - Accuracy: 0.6988 - val_loss: 0.5450 - val_Accuracy: 0.8333\n",
      "Epoch 18/100\n",
      "6/6 [==============================] - 0s 20ms/step - loss: 0.5798 - Accuracy: 0.6988 - val_loss: 0.5398 - val_Accuracy: 0.8056\n",
      "Epoch 19/100\n",
      "6/6 [==============================] - 0s 24ms/step - loss: 0.5756 - Accuracy: 0.6928 - val_loss: 0.5345 - val_Accuracy: 0.8056\n",
      "Epoch 20/100\n",
      "6/6 [==============================] - 0s 22ms/step - loss: 0.5715 - Accuracy: 0.7229 - val_loss: 0.5295 - val_Accuracy: 0.8194\n",
      "Epoch 21/100\n",
      "6/6 [==============================] - 0s 20ms/step - loss: 0.5681 - Accuracy: 0.7349 - val_loss: 0.5245 - val_Accuracy: 0.8333\n",
      "Epoch 22/100\n",
      "6/6 [==============================] - 0s 20ms/step - loss: 0.5641 - Accuracy: 0.7410 - val_loss: 0.5200 - val_Accuracy: 0.8333\n",
      "Epoch 23/100\n",
      "6/6 [==============================] - 0s 25ms/step - loss: 0.5618 - Accuracy: 0.7410 - val_loss: 0.5152 - val_Accuracy: 0.8333\n",
      "Epoch 24/100\n",
      "6/6 [==============================] - 0s 18ms/step - loss: 0.5574 - Accuracy: 0.7289 - val_loss: 0.5093 - val_Accuracy: 0.8333\n",
      "Epoch 25/100\n",
      "6/6 [==============================] - 0s 23ms/step - loss: 0.5540 - Accuracy: 0.7349 - val_loss: 0.5049 - val_Accuracy: 0.8194\n",
      "Epoch 26/100\n",
      "6/6 [==============================] - 0s 49ms/step - loss: 0.5515 - Accuracy: 0.7289 - val_loss: 0.5005 - val_Accuracy: 0.8333\n",
      "Epoch 27/100\n",
      "6/6 [==============================] - 0s 27ms/step - loss: 0.5491 - Accuracy: 0.7349 - val_loss: 0.4972 - val_Accuracy: 0.8472\n",
      "Epoch 28/100\n",
      "6/6 [==============================] - 0s 23ms/step - loss: 0.5463 - Accuracy: 0.7470 - val_loss: 0.4941 - val_Accuracy: 0.8333\n",
      "Epoch 29/100\n",
      "6/6 [==============================] - 0s 23ms/step - loss: 0.5434 - Accuracy: 0.7410 - val_loss: 0.4902 - val_Accuracy: 0.8333\n",
      "Epoch 30/100\n",
      "6/6 [==============================] - 0s 19ms/step - loss: 0.5414 - Accuracy: 0.7470 - val_loss: 0.4880 - val_Accuracy: 0.8333\n",
      "Epoch 31/100\n",
      "6/6 [==============================] - 0s 19ms/step - loss: 0.5391 - Accuracy: 0.7470 - val_loss: 0.4838 - val_Accuracy: 0.8333\n",
      "Epoch 32/100\n",
      "6/6 [==============================] - 0s 20ms/step - loss: 0.5358 - Accuracy: 0.7470 - val_loss: 0.4788 - val_Accuracy: 0.8333\n",
      "Epoch 33/100\n",
      "6/6 [==============================] - 0s 24ms/step - loss: 0.5337 - Accuracy: 0.7410 - val_loss: 0.4741 - val_Accuracy: 0.8333\n",
      "Epoch 34/100\n",
      "6/6 [==============================] - 0s 19ms/step - loss: 0.5304 - Accuracy: 0.7470 - val_loss: 0.4703 - val_Accuracy: 0.8333\n",
      "Epoch 35/100\n",
      "6/6 [==============================] - 0s 19ms/step - loss: 0.5282 - Accuracy: 0.7410 - val_loss: 0.4667 - val_Accuracy: 0.8333\n",
      "Epoch 36/100\n",
      "6/6 [==============================] - 0s 19ms/step - loss: 0.5263 - Accuracy: 0.7470 - val_loss: 0.4633 - val_Accuracy: 0.8333\n",
      "Epoch 37/100\n",
      "6/6 [==============================] - 0s 16ms/step - loss: 0.5244 - Accuracy: 0.7349 - val_loss: 0.4603 - val_Accuracy: 0.8333\n",
      "Epoch 38/100\n",
      "6/6 [==============================] - 0s 23ms/step - loss: 0.5230 - Accuracy: 0.7349 - val_loss: 0.4571 - val_Accuracy: 0.8333\n",
      "Epoch 39/100\n",
      "6/6 [==============================] - 0s 22ms/step - loss: 0.5212 - Accuracy: 0.7410 - val_loss: 0.4534 - val_Accuracy: 0.8333\n",
      "Epoch 40/100\n",
      "6/6 [==============================] - 0s 29ms/step - loss: 0.5181 - Accuracy: 0.7410 - val_loss: 0.4511 - val_Accuracy: 0.8472\n",
      "Epoch 41/100\n",
      "6/6 [==============================] - 0s 23ms/step - loss: 0.5167 - Accuracy: 0.7410 - val_loss: 0.4484 - val_Accuracy: 0.8472\n",
      "Epoch 42/100\n",
      "6/6 [==============================] - 0s 24ms/step - loss: 0.5162 - Accuracy: 0.7470 - val_loss: 0.4457 - val_Accuracy: 0.8333\n",
      "Epoch 43/100\n",
      "6/6 [==============================] - 0s 21ms/step - loss: 0.5136 - Accuracy: 0.7530 - val_loss: 0.4430 - val_Accuracy: 0.8472\n",
      "Epoch 44/100\n",
      "6/6 [==============================] - 0s 21ms/step - loss: 0.5124 - Accuracy: 0.7410 - val_loss: 0.4408 - val_Accuracy: 0.8333\n",
      "Epoch 45/100\n",
      "6/6 [==============================] - 0s 23ms/step - loss: 0.5110 - Accuracy: 0.7530 - val_loss: 0.4389 - val_Accuracy: 0.8333\n",
      "Epoch 46/100\n",
      "6/6 [==============================] - 0s 22ms/step - loss: 0.5099 - Accuracy: 0.7470 - val_loss: 0.4387 - val_Accuracy: 0.8333\n",
      "Epoch 47/100\n",
      "6/6 [==============================] - 0s 21ms/step - loss: 0.5111 - Accuracy: 0.7470 - val_loss: 0.4383 - val_Accuracy: 0.8194\n",
      "Epoch 48/100\n",
      "6/6 [==============================] - 0s 19ms/step - loss: 0.5105 - Accuracy: 0.7470 - val_loss: 0.4357 - val_Accuracy: 0.8333\n",
      "Epoch 49/100\n",
      "6/6 [==============================] - 0s 16ms/step - loss: 0.5091 - Accuracy: 0.7530 - val_loss: 0.4317 - val_Accuracy: 0.8333\n",
      "Epoch 50/100\n",
      "6/6 [==============================] - 0s 15ms/step - loss: 0.5062 - Accuracy: 0.7470 - val_loss: 0.4291 - val_Accuracy: 0.8333\n",
      "Epoch 51/100\n",
      "6/6 [==============================] - 0s 20ms/step - loss: 0.5053 - Accuracy: 0.7530 - val_loss: 0.4273 - val_Accuracy: 0.8472\n",
      "Epoch 52/100\n",
      "6/6 [==============================] - 0s 18ms/step - loss: 0.5038 - Accuracy: 0.7530 - val_loss: 0.4254 - val_Accuracy: 0.8333\n",
      "Epoch 53/100\n",
      "6/6 [==============================] - 0s 17ms/step - loss: 0.5034 - Accuracy: 0.7470 - val_loss: 0.4240 - val_Accuracy: 0.8333\n",
      "Epoch 54/100\n",
      "6/6 [==============================] - 0s 18ms/step - loss: 0.5025 - Accuracy: 0.7590 - val_loss: 0.4234 - val_Accuracy: 0.8333\n",
      "Epoch 55/100\n",
      "6/6 [==============================] - 0s 15ms/step - loss: 0.5023 - Accuracy: 0.7470 - val_loss: 0.4224 - val_Accuracy: 0.8333\n",
      "Epoch 56/100\n",
      "6/6 [==============================] - 0s 18ms/step - loss: 0.5025 - Accuracy: 0.7470 - val_loss: 0.4207 - val_Accuracy: 0.8333\n",
      "Epoch 57/100\n",
      "1/6 [====>.........................] - ETA: 0s - loss: 0.4804 - Accuracy: 0.7500Restoring model weights from the end of the best epoch: 27.\n",
      "6/6 [==============================] - 0s 20ms/step - loss: 0.5014 - Accuracy: 0.7470 - val_loss: 0.4192 - val_Accuracy: 0.8333\n",
      "Epoch 57: early stopping\n"
     ]
    }
   ],
   "source": [
    "tf.keras.backend.clear_session()\n",
    "model1 = tf.keras.models.Sequential([\n",
    "        tf.keras.layers.Dense(100, activation='relu', input_dim= 2),\n",
    "        tf.keras.layers.Dense(1, activation='sigmoid')\n",
    "    ])\n",
    "optimizer= tf.keras.optimizers.Adam(learning_rate=0.001)\n",
    "model1.compile(loss='binary_crossentropy', optimizer='adam',metrics=['Accuracy'])\n",
    "\n",
    "history1 = model1.fit(X_train,y_train, epochs= max_epoch,callbacks=callbacks,\n",
    "                validation_data=(X_val, y_val),verbose=1)"
   ]
  },
  {
   "cell_type": "code",
   "execution_count": 8,
   "metadata": {},
   "outputs": [
    {
     "name": "stdout",
     "output_type": "stream",
     "text": [
      "6/6 [==============================] - 0s 4ms/step - loss: 0.5463 - Accuracy: 0.7410\n"
     ]
    },
    {
     "data": {
      "text/plain": [
       "[0.5462666153907776, 0.740963876247406]"
      ]
     },
     "execution_count": 8,
     "metadata": {},
     "output_type": "execute_result"
    }
   ],
   "source": [
    "model1.evaluate(X_train, y_train)"
   ]
  },
  {
   "cell_type": "code",
   "execution_count": 9,
   "metadata": {},
   "outputs": [
    {
     "name": "stdout",
     "output_type": "stream",
     "text": [
      "3/3 [==============================] - 0s 5ms/step - loss: 0.4972 - Accuracy: 0.8472\n"
     ]
    },
    {
     "data": {
      "text/plain": [
       "[0.49722278118133545, 0.8472222089767456]"
      ]
     },
     "execution_count": 9,
     "metadata": {},
     "output_type": "execute_result"
    }
   ],
   "source": [
    "model1.evaluate(X_val, y_val)"
   ]
  },
  {
   "cell_type": "code",
   "execution_count": 10,
   "metadata": {},
   "outputs": [
    {
     "name": "stdout",
     "output_type": "stream",
     "text": [
      "Model: \"sequential\"\n",
      "_________________________________________________________________\n",
      " Layer (type)                Output Shape              Param #   \n",
      "=================================================================\n",
      " dense (Dense)               (None, 100)               300       \n",
      "                                                                 \n",
      " dense_1 (Dense)             (None, 1)                 101       \n",
      "                                                                 \n",
      "=================================================================\n",
      "Total params: 401\n",
      "Trainable params: 401\n",
      "Non-trainable params: 0\n",
      "_________________________________________________________________\n"
     ]
    }
   ],
   "source": [
    "model1.summary()"
   ]
  },
  {
   "cell_type": "code",
   "execution_count": 26,
   "metadata": {},
   "outputs": [
    {
     "name": "stdout",
     "output_type": "stream",
     "text": [
      "3/3 [==============================] - 0s 4ms/step\n"
     ]
    }
   ],
   "source": [
    "predict = model1.predict(X_val)"
   ]
  },
  {
   "cell_type": "code",
   "execution_count": 27,
   "metadata": {},
   "outputs": [
    {
     "data": {
      "text/plain": [
       "<tf.Tensor: shape=(2, 2), dtype=int32, numpy=\n",
       "array([[51,  0],\n",
       "       [21,  0]])>"
      ]
     },
     "execution_count": 27,
     "metadata": {},
     "output_type": "execute_result"
    }
   ],
   "source": [
    "confs = confusion_matrix(y_val, predict)\n",
    "confs"
   ]
  },
  {
   "cell_type": "code",
   "execution_count": 22,
   "metadata": {},
   "outputs": [
    {
     "name": "stdout",
     "output_type": "stream",
     "text": [
      "6/6 [==============================] - 0s 4ms/step\n"
     ]
    }
   ],
   "source": [
    "predict = model1.predict(X_train)\n",
    "pred = np.round(predict)"
   ]
  },
  {
   "cell_type": "code",
   "execution_count": 61,
   "metadata": {},
   "outputs": [
    {
     "data": {
      "text/plain": [
       "0.0"
      ]
     },
     "execution_count": 61,
     "metadata": {},
     "output_type": "execute_result"
    }
   ],
   "source": [
    "pred"
   ]
  },
  {
   "cell_type": "code",
   "execution_count": 23,
   "metadata": {},
   "outputs": [
    {
     "name": "stdout",
     "output_type": "stream",
     "text": [
      "82 18 25 41\n"
     ]
    }
   ],
   "source": [
    "from sklearn.metrics import confusion_matrix\n",
    "import scikitplot as skplt\n",
    "confusion_mat= confusion_matrix(y_train, pred)\n",
    "tn, fp, fn, tp=confusion_mat.ravel()\n",
    "print(tn, fp, fn, tp)"
   ]
  },
  {
   "cell_type": "code",
   "execution_count": 25,
   "metadata": {},
   "outputs": [
    {
     "data": {
      "text/plain": [
       "<AxesSubplot:title={'center':'Confusion Matrix'}, xlabel='Predicted label', ylabel='True label'>"
      ]
     },
     "execution_count": 25,
     "metadata": {},
     "output_type": "execute_result"
    },
    {
     "data": {
      "image/png": "[encoded data removed]",
      "text/plain": [
       "<Figure size 432x288 with 2 Axes>"
      ]
     },
     "metadata": {
      "needs_background": "light"
     },
     "output_type": "display_data"
    }
   ],
   "source": [
    "skplt.metrics.plot_confusion_matrix(y_train, pred,cmap= 'coolwarm')"
   ]
  },
  {
   "cell_type": "code",
   "execution_count": 12,
   "metadata": {},
   "outputs": [
    {
     "name": "stdout",
     "output_type": "stream",
     "text": [
      "42 4 7 19\n"
     ]
    }
   ],
   "source": [
    "from sklearn.metrics import confusion_matrix\n",
    "import scikitplot as skplt\n",
    "confusion_mat= confusion_matrix(y_val, pred)\n",
    "tn, fp, fn, tp=confusion_mat.ravel()\n",
    "print(tn, fp, fn, tp)"
   ]
  },
  {
   "cell_type": "code",
   "execution_count": 13,
   "metadata": {},
   "outputs": [
    {
     "data": {
      "text/plain": [
       "<AxesSubplot:title={'center':'Confusion Matrix'}, xlabel='Predicted label', ylabel='True label'>"
      ]
     },
     "execution_count": 13,
     "metadata": {},
     "output_type": "execute_result"
    },
    {
     "data": {
      "image/png": "[encoded data removed]",
      "text/plain": [
       "<Figure size 432x288 with 2 Axes>"
      ]
     },
     "metadata": {
      "needs_background": "light"
     },
     "output_type": "display_data"
    }
   ],
   "source": [
    "skplt.metrics.plot_confusion_matrix(y_val, pred,cmap= 'coolwarm')"
   ]
  },
  {
   "cell_type": "code",
   "execution_count": 32,
   "metadata": {},
   "outputs": [
    {
     "data": {
      "text/plain": [
       "Text(0, 0.5, 'Validation Accuracy')"
      ]
     },
     "execution_count": 32,
     "metadata": {},
     "output_type": "execute_result"
    },
    {
     "data": {
      "image/png": "[encoded data removed]",
      "text/plain": [
       "<Figure size 432x288 with 1 Axes>"
      ]
     },
     "metadata": {
      "needs_background": "light"
     },
     "output_type": "display_data"
    }
   ],
   "source": [
    "plt.plot(history1.history['val_Accuracy'])\n",
    "plt.title('Validation Accurary Plot')\n",
    "plt.xlabel('Epochs')\n",
    "plt.ylabel('Validation Accuracy')"
   ]
  },
  {
   "cell_type": "code",
   "execution_count": 14,
   "metadata": {},
   "outputs": [
    {
     "data": {
      "text/plain": [
       "Text(0, 0.5, 'Accuracy')"
      ]
     },
     "execution_count": 14,
     "metadata": {},
     "output_type": "execute_result"
    },
    {
     "data": {
      "image/png": "[encoded data removed]",
      "text/plain": [
       "<Figure size 432x288 with 1 Axes>"
      ]
     },
     "metadata": {
      "needs_background": "light"
     },
     "output_type": "display_data"
    }
   ],
   "source": [
    "plt.plot(history1.history['Accuracy'],label='Accuracy')\n",
    "plt.plot(history1.history['val_Accuracy'],label='Validation Accuracy')\n",
    "plt.title('Accurary Plot')\n",
    "plt.legend()\n",
    "plt.xlabel('Epochs')\n",
    "plt.ylabel('Accuracy')"
   ]
  },
  {
   "cell_type": "code",
   "execution_count": 15,
   "metadata": {},
   "outputs": [
    {
     "data": {
      "text/plain": [
       "Text(0, 0.5, 'Loss')"
      ]
     },
     "execution_count": 15,
     "metadata": {},
     "output_type": "execute_result"
    },
    {
     "data": {
      "image/png": "[encoded data removed]",
      "text/plain": [
       "<Figure size 432x288 with 1 Axes>"
      ]
     },
     "metadata": {
      "needs_background": "light"
     },
     "output_type": "display_data"
    }
   ],
   "source": [
    "plt.plot(history1.history['loss'],label='Loss')\n",
    "plt.plot(history1.history['val_loss'],label='Validation Loss')\n",
    "plt.title('Loss Plot')\n",
    "plt.legend()\n",
    "plt.xlabel('Epochs')\n",
    "plt.ylabel('Loss')"
   ]
  },
  {
   "cell_type": "code",
   "execution_count": 74,
   "metadata": {},
   "outputs": [
    {
     "name": "stdout",
     "output_type": "stream",
     "text": [
      "Trial 100 Complete [00h 00m 09s]\n",
      "val_Accuracy: 0.7916666865348816\n",
      "\n",
      "Best val_Accuracy So Far: 0.8194444179534912\n",
      "Total elapsed time: 00h 15m 00s\n",
      "INFO:tensorflow:Oracle triggered exit\n"
     ]
    }
   ],
   "source": [
    "def build_model(hp):\n",
    "      model = tf.keras.models.Sequential([\n",
    "          tf.keras.Input(shape=(None,2)),\n",
    "      ])\n",
    "      \n",
    "      # Tune the number of layers.\n",
    "      for i in range(hp.Int(\"num_layers\", 1, 5)):\n",
    "          model.add(\n",
    "              tf.keras.layers.Dense(\n",
    "                  # Tune number of units separately.\n",
    "                  units=hp.Int(f\"units_{i}\", min_value=10, max_value=200, step=5),\n",
    "                  activation= 'relu' # hp.Choice(\"activation\", [\"relu\", \"tanh\"]),\n",
    "              )\n",
    "          )\n",
    "\n",
    "\n",
    "      # Output Layer\n",
    "      model.add(tf.keras.layers.Dense(1, activation='sigmoid'))\n",
    "\n",
    "      # Code to train and compile the model\n",
    "      optimizer = tf.keras.optimizers.Adam() # YOUR CODE HERE\n",
    "      model.compile(\n",
    "          # YOUR CODE HERE\n",
    "          optimizer=optimizer,\n",
    "          metrics=['Accuracy'],\n",
    "          loss='binary_crossentropy'\n",
    "      )\n",
    "\n",
    "      return model\n",
    "\n",
    "tuner = kt.RandomSearch(\n",
    "    build_model,\n",
    "    objective='val_Accuracy',\n",
    "    max_trials=100)  \n",
    "\n",
    "tuner.search(X_train,y_train, validation_data=(X_val,y_val), epochs=5)\n",
    "best_model = tuner.get_best_models()[0]  "
   ]
  },
  {
   "cell_type": "code",
   "execution_count": 75,
   "metadata": {},
   "outputs": [
    {
     "name": "stdout",
     "output_type": "stream",
     "text": [
      "Model: \"sequential\"\n",
      "_________________________________________________________________\n",
      " Layer (type)                Output Shape              Param #   \n",
      "=================================================================\n",
      " dense (Dense)               (None, None, 234)         702       \n",
      "                                                                 \n",
      " dense_1 (Dense)             (None, None, 42)          9870      \n",
      "                                                                 \n",
      " dense_2 (Dense)             (None, None, 394)         16942     \n",
      "                                                                 \n",
      " dense_3 (Dense)             (None, None, 1)           395       \n",
      "                                                                 \n",
      "=================================================================\n",
      "Total params: 27,909\n",
      "Trainable params: 27,909\n",
      "Non-trainable params: 0\n",
      "_________________________________________________________________\n"
     ]
    }
   ],
   "source": [
    "best_model.summary()"
   ]
  },
  {
   "cell_type": "code",
   "execution_count": 83,
   "metadata": {},
   "outputs": [
    {
     "name": "stdout",
     "output_type": "stream",
     "text": [
      "Epoch 1/300\n",
      "6/6 [==============================] - 3s 139ms/step - loss: 0.6772 - Accuracy: 0.6024 - val_loss: 0.6538 - val_Accuracy: 0.7778\n",
      "Epoch 2/300\n",
      "6/6 [==============================] - 0s 37ms/step - loss: 0.6493 - Accuracy: 0.7651 - val_loss: 0.6281 - val_Accuracy: 0.7778\n",
      "Epoch 3/300\n",
      "6/6 [==============================] - 0s 31ms/step - loss: 0.6273 - Accuracy: 0.7771 - val_loss: 0.6083 - val_Accuracy: 0.7917\n",
      "Epoch 4/300\n",
      "6/6 [==============================] - 0s 24ms/step - loss: 0.6091 - Accuracy: 0.7651 - val_loss: 0.5833 - val_Accuracy: 0.7778\n",
      "Epoch 5/300\n",
      "6/6 [==============================] - 0s 26ms/step - loss: 0.5931 - Accuracy: 0.7590 - val_loss: 0.5617 - val_Accuracy: 0.7917\n",
      "Epoch 6/300\n",
      "6/6 [==============================] - 0s 25ms/step - loss: 0.5700 - Accuracy: 0.7590 - val_loss: 0.5360 - val_Accuracy: 0.7639\n",
      "Epoch 7/300\n",
      "6/6 [==============================] - 0s 28ms/step - loss: 0.5485 - Accuracy: 0.7590 - val_loss: 0.5149 - val_Accuracy: 0.7639\n",
      "Epoch 8/300\n",
      "6/6 [==============================] - 0s 29ms/step - loss: 0.5295 - Accuracy: 0.7590 - val_loss: 0.4906 - val_Accuracy: 0.8056\n",
      "Epoch 9/300\n",
      "6/6 [==============================] - 0s 29ms/step - loss: 0.5176 - Accuracy: 0.7470 - val_loss: 0.4734 - val_Accuracy: 0.7917\n",
      "Epoch 10/300\n",
      "6/6 [==============================] - 0s 22ms/step - loss: 0.5039 - Accuracy: 0.7590 - val_loss: 0.4658 - val_Accuracy: 0.7778\n",
      "Epoch 11/300\n",
      "6/6 [==============================] - 0s 22ms/step - loss: 0.5022 - Accuracy: 0.7711 - val_loss: 0.4598 - val_Accuracy: 0.7917\n",
      "Epoch 12/300\n",
      "6/6 [==============================] - 0s 23ms/step - loss: 0.4953 - Accuracy: 0.7651 - val_loss: 0.4434 - val_Accuracy: 0.7917\n",
      "Epoch 13/300\n",
      "6/6 [==============================] - 0s 25ms/step - loss: 0.4903 - Accuracy: 0.7530 - val_loss: 0.4515 - val_Accuracy: 0.7778\n",
      "Epoch 14/300\n",
      "6/6 [==============================] - 0s 48ms/step - loss: 0.4905 - Accuracy: 0.7711 - val_loss: 0.4857 - val_Accuracy: 0.7917\n",
      "Epoch 15/300\n",
      "6/6 [==============================] - 0s 29ms/step - loss: 0.4908 - Accuracy: 0.7892 - val_loss: 0.4337 - val_Accuracy: 0.7639\n",
      "Epoch 16/300\n",
      "6/6 [==============================] - 0s 22ms/step - loss: 0.4869 - Accuracy: 0.7590 - val_loss: 0.4275 - val_Accuracy: 0.8056\n",
      "Epoch 17/300\n",
      "6/6 [==============================] - 0s 30ms/step - loss: 0.4815 - Accuracy: 0.7651 - val_loss: 0.4342 - val_Accuracy: 0.7917\n",
      "Epoch 18/300\n",
      "6/6 [==============================] - 0s 22ms/step - loss: 0.4851 - Accuracy: 0.7831 - val_loss: 0.4791 - val_Accuracy: 0.7917\n",
      "Epoch 19/300\n",
      "6/6 [==============================] - 0s 26ms/step - loss: 0.4872 - Accuracy: 0.7831 - val_loss: 0.4318 - val_Accuracy: 0.7639\n",
      "Epoch 20/300\n",
      "6/6 [==============================] - 0s 21ms/step - loss: 0.4701 - Accuracy: 0.7831 - val_loss: 0.4288 - val_Accuracy: 0.7778\n",
      "Epoch 21/300\n",
      "6/6 [==============================] - 0s 29ms/step - loss: 0.4731 - Accuracy: 0.7651 - val_loss: 0.4308 - val_Accuracy: 0.7639\n",
      "Epoch 22/300\n",
      "6/6 [==============================] - 0s 22ms/step - loss: 0.4711 - Accuracy: 0.7711 - val_loss: 0.4178 - val_Accuracy: 0.7778\n",
      "Epoch 23/300\n",
      "6/6 [==============================] - 0s 21ms/step - loss: 0.4764 - Accuracy: 0.7711 - val_loss: 0.4521 - val_Accuracy: 0.7778\n",
      "Epoch 24/300\n",
      "6/6 [==============================] - 0s 22ms/step - loss: 0.4727 - Accuracy: 0.7771 - val_loss: 0.4176 - val_Accuracy: 0.7778\n",
      "Epoch 25/300\n",
      "6/6 [==============================] - 0s 27ms/step - loss: 0.4649 - Accuracy: 0.7651 - val_loss: 0.4146 - val_Accuracy: 0.7778\n",
      "Epoch 26/300\n",
      "6/6 [==============================] - 0s 22ms/step - loss: 0.4690 - Accuracy: 0.7651 - val_loss: 0.4159 - val_Accuracy: 0.7778\n",
      "Epoch 27/300\n",
      "6/6 [==============================] - 0s 24ms/step - loss: 0.4674 - Accuracy: 0.7711 - val_loss: 0.4219 - val_Accuracy: 0.7778\n",
      "Epoch 28/300\n",
      "6/6 [==============================] - 0s 22ms/step - loss: 0.4591 - Accuracy: 0.7651 - val_loss: 0.4092 - val_Accuracy: 0.8056\n",
      "Epoch 29/300\n",
      "6/6 [==============================] - 0s 25ms/step - loss: 0.4782 - Accuracy: 0.7651 - val_loss: 0.4110 - val_Accuracy: 0.7917\n",
      "Epoch 30/300\n",
      "6/6 [==============================] - 0s 22ms/step - loss: 0.4674 - Accuracy: 0.7711 - val_loss: 0.4392 - val_Accuracy: 0.7639\n",
      "Epoch 31/300\n",
      "6/6 [==============================] - 0s 18ms/step - loss: 0.4665 - Accuracy: 0.7831 - val_loss: 0.4214 - val_Accuracy: 0.7778\n",
      "Epoch 32/300\n",
      "6/6 [==============================] - 0s 24ms/step - loss: 0.4650 - Accuracy: 0.7651 - val_loss: 0.4073 - val_Accuracy: 0.8056\n",
      "Epoch 33/300\n",
      "6/6 [==============================] - 0s 21ms/step - loss: 0.4629 - Accuracy: 0.7771 - val_loss: 0.4237 - val_Accuracy: 0.7639\n",
      "Epoch 34/300\n",
      "6/6 [==============================] - 0s 23ms/step - loss: 0.4628 - Accuracy: 0.7771 - val_loss: 0.4404 - val_Accuracy: 0.7778\n",
      "Epoch 35/300\n",
      "6/6 [==============================] - 0s 19ms/step - loss: 0.4655 - Accuracy: 0.7892 - val_loss: 0.4220 - val_Accuracy: 0.7639\n",
      "Epoch 36/300\n",
      "6/6 [==============================] - 0s 29ms/step - loss: 0.4591 - Accuracy: 0.7771 - val_loss: 0.4137 - val_Accuracy: 0.7778\n",
      "Epoch 37/300\n",
      "6/6 [==============================] - 0s 18ms/step - loss: 0.4574 - Accuracy: 0.7831 - val_loss: 0.4115 - val_Accuracy: 0.7778\n",
      "Epoch 38/300\n",
      "1/6 [====>.........................] - ETA: 0s - loss: 0.4840 - Accuracy: 0.7812Restoring model weights from the end of the best epoch: 8.\n",
      "6/6 [==============================] - 0s 23ms/step - loss: 0.4570 - Accuracy: 0.7892 - val_loss: 0.4229 - val_Accuracy: 0.7639\n",
      "Epoch 38: early stopping\n"
     ]
    }
   ],
   "source": [
    "tf.keras.backend.clear_session()\n",
    "model = tf.keras.models.Sequential([\n",
    "        tf.keras.layers.Dense(50, activation='relu', input_dim= 2),\n",
    "        tf.keras.layers.Dense(100, activation='relu'),\n",
    "        tf.keras.layers.Dense(50, activation='relu'),\n",
    "        tf.keras.layers.Dense(1, activation='sigmoid')\n",
    "    ])\n",
    "model.compile(loss='binary_crossentropy', optimizer='adam',metrics=['Accuracy'])\n",
    "\n",
    "history = model.fit(X_train,y_train, epochs= max_epoch, callbacks=callbacks,\n",
    "                validation_data=(X_val, y_val),verbose=1)"
   ]
  },
  {
   "cell_type": "code",
   "execution_count": 12,
   "metadata": {},
   "outputs": [],
   "source": [
    "class MyHyperModel(kt.HyperModel):\n",
    "    def build(self, hp):\n",
    "        \"\"\"Builds a convolutional model.\"\"\"\n",
    "        inputs = tf.keras.Input(shape=(None, 2))\n",
    "        for i in range(hp.Int(\"num_layers\", 1, 5)):\n",
    "              x = tf.keras.layers.Dense(\n",
    "                  # Tune number of units separately.\n",
    "                  units=hp.Int(f\"units_{i}\", min_value=10, max_value=200, step=5),\n",
    "                  activation= 'relu' # hp.Choice(\"activation\", [\"relu\", \"tanh\"]),\n",
    "              )(inputs)\n",
    "        outputs = tf.keras.layers.Dense(1, activation='sigmoid')(x)\n",
    "        return tf.keras.Model(inputs=inputs, outputs=outputs)\n",
    "\n",
    "    def fit(self, hp, model, x, y, validation_data, callbacks=None, **kwargs):\n",
    "        # Convert the datasets to tf.data.Dataset.\n",
    "        batch_size = hp.Int(\"batch_size\", 32, 128, step=32, default=64)\n",
    "        train_ds = tf.data.Dataset.from_tensor_slices((x, y)).batch(\n",
    "            batch_size\n",
    "        )\n",
    "        validation_data = tf.data.Dataset.from_tensor_slices(validation_data).batch(\n",
    "            batch_size\n",
    "        )\n",
    "\n",
    "        # Define the optimizer.\n",
    "        optimizer = tf.keras.optimizers.Adam(\n",
    "            hp.Float(\"learning_rate\", 1e-4, 1e-2, sampling=\"log\", default=1e-3)\n",
    "        )\n",
    "        loss_fn = tf.keras.losses.BinaryCrossentropy(from_logits=True)\n",
    "\n",
    "        # The metric to track validation loss.\n",
    "        epoch_loss_metric = tf.keras.metrics.Mean()\n",
    "\n",
    "        # Function to run the train step.\n",
    "        @tf.function\n",
    "        def run_train_step(X_train, y_train):\n",
    "            with tf.GradientTape() as tape:\n",
    "                logits = model(X_train)\n",
    "                loss = loss_fn(y_train, logits)\n",
    "                # Add any regularization losses.\n",
    "                if model.losses:\n",
    "                    loss += tf.math.add_n(model.losses)\n",
    "            gradients = tape.gradient(loss, model.trainable_variables)\n",
    "            optimizer.apply_gradients(zip(gradients, model.trainable_variables))\n",
    "\n",
    "        # Function to run the validation step.\n",
    "        @tf.function\n",
    "        def run_val_step(X_train, y_train):\n",
    "            logits = model(X_train)\n",
    "            loss = loss_fn(y_train, logits)\n",
    "            # Update the metric.\n",
    "            epoch_loss_metric.update_state(loss)\n",
    "\n",
    "        # Assign the model to the callbacks.\n",
    "        for callback in callbacks:\n",
    "            callback.model = model\n",
    "\n",
    "        # Record the best validation loss value\n",
    "        best_epoch_loss = float(\"inf\")\n",
    "\n",
    "        # The custom training loop.\n",
    "        for epoch in range(5):\n",
    "            print(f\"Epoch: {epoch}\")\n",
    "\n",
    "            # Iterate the training data to run the training step.\n",
    "            for X_train, y_train in train_ds:\n",
    "                run_train_step(X_train, y_train)\n",
    "\n",
    "            # Iterate the validation data to run the validation step.\n",
    "            for X_val, y_val in validation_data:\n",
    "                run_val_step(X_val, y_val)\n",
    "\n",
    "            # Calling the callbacks after epoch.\n",
    "            epoch_loss = float(epoch_loss_metric.result().numpy())\n",
    "            for callback in callbacks:\n",
    "                # The \"my_metric\" is the objective passed to the tuner.\n",
    "                callback.on_epoch_end(epoch, logs={\"my_metric\": epoch_loss})\n",
    "            epoch_loss_metric.reset_states()\n",
    "\n",
    "            print(f\"Epoch loss: {epoch_loss}\")\n",
    "            best_epoch_loss = min(best_epoch_loss, epoch_loss)\n",
    "\n",
    "        # Return the evaluation metric value.\n",
    "        return best_epoch_loss"
   ]
  },
  {
   "cell_type": "code",
   "execution_count": 13,
   "metadata": {},
   "outputs": [],
   "source": [
    "tuner = kt.RandomSearch(\n",
    "    objective=kt.Objective(\"my_metric\", \"min\"),\n",
    "    max_trials=200,\n",
    "    hypermodel=MyHyperModel(),\n",
    "    directory=\"results\",\n",
    "    project_name=\"custom_training\",\n",
    "    overwrite=True,\n",
    ")"
   ]
  },
  {
   "cell_type": "code",
   "execution_count": 14,
   "metadata": {},
   "outputs": [
    {
     "name": "stdout",
     "output_type": "stream",
     "text": [
      "Trial 200 Complete [00h 00m 03s]\n",
      "my_metric: 0.8241209387779236\n",
      "\n",
      "Best my_metric So Far: 0.6984691619873047\n",
      "Total elapsed time: 00h 14m 58s\n",
      "INFO:tensorflow:Oracle triggered exit\n"
     ]
    }
   ],
   "source": [
    "tuner.search(x=X_train, y=y_train, validation_data=(X_val, y_val))"
   ]
  },
  {
   "cell_type": "code",
   "execution_count": 15,
   "metadata": {},
   "outputs": [
    {
     "name": "stdout",
     "output_type": "stream",
     "text": [
      "{'num_layers': 4, 'units_0': 40, 'units_1': 115, 'units_2': 125, 'units_3': 120, 'batch_size': 64, 'learning_rate': 0.00823459375519691, 'units_4': 30}\n",
      "Model: \"model\"\n",
      "_________________________________________________________________\n",
      " Layer (type)                Output Shape              Param #   \n",
      "=================================================================\n",
      " input_1 (InputLayer)        [(None, None, 2)]         0         \n",
      "                                                                 \n",
      " dense_3 (Dense)             (None, None, 120)         360       \n",
      "                                                                 \n",
      " dense_4 (Dense)             (None, None, 1)           121       \n",
      "                                                                 \n",
      "=================================================================\n",
      "Total params: 481\n",
      "Trainable params: 481\n",
      "Non-trainable params: 0\n",
      "_________________________________________________________________\n"
     ]
    }
   ],
   "source": [
    "best_hps = tuner.get_best_hyperparameters()[0]\n",
    "print(best_hps.values)\n",
    "\n",
    "best_model = tuner.get_best_models()[0]\n",
    "best_model.summary()"
   ]
  },
  {
   "cell_type": "code",
   "execution_count": 22,
   "metadata": {},
   "outputs": [
    {
     "name": "stdout",
     "output_type": "stream",
     "text": [
      "Epoch 1/100\n",
      "3/3 [==============================] - 2s 397ms/step - loss: 0.6812 - Accuracy: 0.6325 - val_loss: 0.6771 - val_Accuracy: 0.6944\n",
      "Epoch 2/100\n",
      "3/3 [==============================] - 0s 58ms/step - loss: 0.6624 - Accuracy: 0.7349 - val_loss: 0.6580 - val_Accuracy: 0.7778\n",
      "Epoch 3/100\n",
      "3/3 [==============================] - 0s 43ms/step - loss: 0.6468 - Accuracy: 0.7711 - val_loss: 0.6360 - val_Accuracy: 0.7778\n",
      "Epoch 4/100\n",
      "3/3 [==============================] - 0s 46ms/step - loss: 0.6325 - Accuracy: 0.7711 - val_loss: 0.6255 - val_Accuracy: 0.7500\n",
      "Epoch 5/100\n",
      "3/3 [==============================] - 0s 50ms/step - loss: 0.6145 - Accuracy: 0.7831 - val_loss: 0.6094 - val_Accuracy: 0.7500\n",
      "Epoch 6/100\n",
      "3/3 [==============================] - 0s 47ms/step - loss: 0.5981 - Accuracy: 0.7771 - val_loss: 0.5915 - val_Accuracy: 0.7500\n",
      "Epoch 7/100\n",
      "3/3 [==============================] - 0s 48ms/step - loss: 0.5803 - Accuracy: 0.7771 - val_loss: 0.5692 - val_Accuracy: 0.7639\n",
      "Epoch 8/100\n",
      "3/3 [==============================] - 0s 52ms/step - loss: 0.5612 - Accuracy: 0.7530 - val_loss: 0.5415 - val_Accuracy: 0.7917\n",
      "Epoch 9/100\n",
      "3/3 [==============================] - 0s 56ms/step - loss: 0.5425 - Accuracy: 0.7590 - val_loss: 0.5189 - val_Accuracy: 0.7917\n",
      "Epoch 10/100\n",
      "3/3 [==============================] - 0s 49ms/step - loss: 0.5252 - Accuracy: 0.7651 - val_loss: 0.5040 - val_Accuracy: 0.7778\n",
      "Epoch 11/100\n",
      "3/3 [==============================] - 0s 54ms/step - loss: 0.5069 - Accuracy: 0.7530 - val_loss: 0.4880 - val_Accuracy: 0.8056\n",
      "Epoch 12/100\n",
      "3/3 [==============================] - 0s 48ms/step - loss: 0.4935 - Accuracy: 0.7590 - val_loss: 0.4761 - val_Accuracy: 0.7917\n",
      "Epoch 13/100\n",
      "3/3 [==============================] - 0s 44ms/step - loss: 0.4846 - Accuracy: 0.7590 - val_loss: 0.4688 - val_Accuracy: 0.7917\n",
      "Epoch 14/100\n",
      "3/3 [==============================] - 0s 47ms/step - loss: 0.4744 - Accuracy: 0.7651 - val_loss: 0.4643 - val_Accuracy: 0.8056\n",
      "Epoch 15/100\n",
      "3/3 [==============================] - 0s 48ms/step - loss: 0.4708 - Accuracy: 0.7530 - val_loss: 0.4620 - val_Accuracy: 0.7917\n",
      "Epoch 16/100\n",
      "3/3 [==============================] - 0s 50ms/step - loss: 0.4689 - Accuracy: 0.7530 - val_loss: 0.4595 - val_Accuracy: 0.8056\n",
      "Epoch 17/100\n",
      "3/3 [==============================] - 0s 50ms/step - loss: 0.4648 - Accuracy: 0.7590 - val_loss: 0.4601 - val_Accuracy: 0.7917\n",
      "Epoch 18/100\n",
      "3/3 [==============================] - 0s 45ms/step - loss: 0.4649 - Accuracy: 0.7651 - val_loss: 0.4584 - val_Accuracy: 0.7917\n",
      "Epoch 19/100\n",
      "3/3 [==============================] - 0s 45ms/step - loss: 0.4611 - Accuracy: 0.7530 - val_loss: 0.4557 - val_Accuracy: 0.7778\n",
      "Epoch 20/100\n",
      "3/3 [==============================] - 0s 39ms/step - loss: 0.4644 - Accuracy: 0.7530 - val_loss: 0.4536 - val_Accuracy: 0.7917\n",
      "Epoch 21/100\n",
      "3/3 [==============================] - 0s 46ms/step - loss: 0.4558 - Accuracy: 0.7530 - val_loss: 0.4603 - val_Accuracy: 0.7778\n",
      "Epoch 22/100\n",
      "3/3 [==============================] - 0s 58ms/step - loss: 0.4644 - Accuracy: 0.7711 - val_loss: 0.4554 - val_Accuracy: 0.7917\n",
      "Epoch 23/100\n",
      "3/3 [==============================] - 0s 47ms/step - loss: 0.4589 - Accuracy: 0.7651 - val_loss: 0.4492 - val_Accuracy: 0.7917\n",
      "Epoch 24/100\n",
      "3/3 [==============================] - 0s 38ms/step - loss: 0.4567 - Accuracy: 0.7590 - val_loss: 0.4499 - val_Accuracy: 0.7778\n",
      "Epoch 25/100\n",
      "3/3 [==============================] - 0s 40ms/step - loss: 0.4631 - Accuracy: 0.7651 - val_loss: 0.4487 - val_Accuracy: 0.7917\n",
      "Epoch 26/100\n",
      "3/3 [==============================] - 0s 41ms/step - loss: 0.4572 - Accuracy: 0.7530 - val_loss: 0.4479 - val_Accuracy: 0.7917\n",
      "Epoch 27/100\n",
      "3/3 [==============================] - 0s 38ms/step - loss: 0.4571 - Accuracy: 0.7530 - val_loss: 0.4512 - val_Accuracy: 0.7917\n",
      "Epoch 28/100\n",
      "3/3 [==============================] - 0s 44ms/step - loss: 0.4573 - Accuracy: 0.7590 - val_loss: 0.4464 - val_Accuracy: 0.7917\n",
      "Epoch 29/100\n",
      "3/3 [==============================] - 0s 43ms/step - loss: 0.4597 - Accuracy: 0.7590 - val_loss: 0.4467 - val_Accuracy: 0.7917\n",
      "Epoch 30/100\n",
      "3/3 [==============================] - 0s 40ms/step - loss: 0.4566 - Accuracy: 0.7590 - val_loss: 0.4476 - val_Accuracy: 0.7917\n",
      "Epoch 31/100\n",
      "3/3 [==============================] - 0s 53ms/step - loss: 0.4536 - Accuracy: 0.7651 - val_loss: 0.4480 - val_Accuracy: 0.7917\n",
      "Epoch 32/100\n",
      "3/3 [==============================] - 0s 44ms/step - loss: 0.4542 - Accuracy: 0.7590 - val_loss: 0.4464 - val_Accuracy: 0.7917\n",
      "Epoch 33/100\n",
      "3/3 [==============================] - 0s 45ms/step - loss: 0.4543 - Accuracy: 0.7651 - val_loss: 0.4439 - val_Accuracy: 0.7917\n",
      "Epoch 34/100\n",
      "3/3 [==============================] - 0s 62ms/step - loss: 0.4524 - Accuracy: 0.7530 - val_loss: 0.4441 - val_Accuracy: 0.7917\n",
      "Epoch 35/100\n",
      "3/3 [==============================] - 0s 42ms/step - loss: 0.4518 - Accuracy: 0.7590 - val_loss: 0.4451 - val_Accuracy: 0.7917\n",
      "Epoch 36/100\n",
      "3/3 [==============================] - 0s 49ms/step - loss: 0.4612 - Accuracy: 0.7590 - val_loss: 0.4481 - val_Accuracy: 0.7917\n",
      "Epoch 37/100\n",
      "3/3 [==============================] - 0s 45ms/step - loss: 0.4547 - Accuracy: 0.7590 - val_loss: 0.4414 - val_Accuracy: 0.7917\n",
      "Epoch 38/100\n",
      "3/3 [==============================] - 0s 44ms/step - loss: 0.4535 - Accuracy: 0.7831 - val_loss: 0.4403 - val_Accuracy: 0.7917\n",
      "Epoch 39/100\n",
      "3/3 [==============================] - 0s 47ms/step - loss: 0.4506 - Accuracy: 0.7711 - val_loss: 0.4399 - val_Accuracy: 0.8056\n",
      "Epoch 40/100\n",
      "3/3 [==============================] - 0s 45ms/step - loss: 0.4496 - Accuracy: 0.7651 - val_loss: 0.4413 - val_Accuracy: 0.7917\n",
      "Epoch 41/100\n",
      "1/3 [=========>....................] - ETA: 0s - loss: 0.4229 - Accuracy: 0.7969Restoring model weights from the end of the best epoch: 11.\n",
      "3/3 [==============================] - 0s 50ms/step - loss: 0.4535 - Accuracy: 0.7590 - val_loss: 0.4403 - val_Accuracy: 0.7917\n",
      "Epoch 41: early stopping\n"
     ]
    }
   ],
   "source": [
    "tf.keras.backend.clear_session()\n",
    "model = tf.keras.models.Sequential([\n",
    "        tf.keras.layers.Dense(115, activation='relu', input_dim= 2),\n",
    "        tf.keras.layers.Dense(125, activation='relu'),\n",
    "        tf.keras.layers.Dense(120, activation='relu'),\n",
    "        tf.keras.layers.Dense(1, activation='sigmoid')\n",
    "    ])\n",
    "optimizer = tf.keras.optimizers.Adam(learning_rate=0.00823459375519691)\n",
    "model.compile(loss='binary_crossentropy', optimizer='adam',metrics=['Accuracy'])\n",
    "\n",
    "history = model.fit(X_train,y_train, epochs= max_epoch, callbacks=callbacks,\n",
    "                validation_data=(X_val, y_val),verbose=1, batch_size=64)"
   ]
  },
  {
   "cell_type": "code",
   "execution_count": 23,
   "metadata": {},
   "outputs": [
    {
     "name": "stdout",
     "output_type": "stream",
     "text": [
      "3/3 [==============================] - 0s 4ms/step - loss: 0.4880 - Accuracy: 0.8056\n"
     ]
    },
    {
     "data": {
      "text/plain": [
       "[0.48802533745765686, 0.8055555820465088]"
      ]
     },
     "execution_count": 23,
     "metadata": {},
     "output_type": "execute_result"
    }
   ],
   "source": [
    "model.evaluate(X_val, y_val)"
   ]
  },
  {
   "cell_type": "code",
   "execution_count": 17,
   "metadata": {},
   "outputs": [
    {
     "name": "stdout",
     "output_type": "stream",
     "text": [
      "Epoch 1/100\n",
      "6/6 [==============================] - 2s 112ms/step - loss: 0.6861 - Accuracy: 0.6084 - val_loss: 0.6594 - val_Accuracy: 0.7917\n",
      "Epoch 2/100\n",
      "6/6 [==============================] - 0s 20ms/step - loss: 0.6578 - Accuracy: 0.7169 - val_loss: 0.6240 - val_Accuracy: 0.8333\n",
      "Epoch 3/100\n",
      "6/6 [==============================] - 0s 25ms/step - loss: 0.6318 - Accuracy: 0.7349 - val_loss: 0.5826 - val_Accuracy: 0.8333\n",
      "Epoch 4/100\n",
      "6/6 [==============================] - 0s 27ms/step - loss: 0.6004 - Accuracy: 0.7349 - val_loss: 0.5459 - val_Accuracy: 0.8194\n",
      "Epoch 5/100\n",
      "6/6 [==============================] - 0s 22ms/step - loss: 0.5726 - Accuracy: 0.7349 - val_loss: 0.5009 - val_Accuracy: 0.8194\n",
      "Epoch 6/100\n",
      "6/6 [==============================] - 0s 27ms/step - loss: 0.5558 - Accuracy: 0.7711 - val_loss: 0.4702 - val_Accuracy: 0.8194\n",
      "Epoch 7/100\n",
      "6/6 [==============================] - 0s 27ms/step - loss: 0.5313 - Accuracy: 0.7289 - val_loss: 0.4497 - val_Accuracy: 0.8056\n",
      "Epoch 8/100\n",
      "6/6 [==============================] - 0s 24ms/step - loss: 0.5153 - Accuracy: 0.7048 - val_loss: 0.4197 - val_Accuracy: 0.8194\n",
      "Epoch 9/100\n",
      "6/6 [==============================] - 0s 26ms/step - loss: 0.5054 - Accuracy: 0.7410 - val_loss: 0.4063 - val_Accuracy: 0.8194\n",
      "Epoch 10/100\n",
      "6/6 [==============================] - 0s 24ms/step - loss: 0.5081 - Accuracy: 0.7349 - val_loss: 0.4028 - val_Accuracy: 0.8056\n",
      "Epoch 11/100\n",
      "6/6 [==============================] - 0s 26ms/step - loss: 0.5159 - Accuracy: 0.7229 - val_loss: 0.4053 - val_Accuracy: 0.8333\n",
      "Epoch 12/100\n",
      "6/6 [==============================] - 0s 23ms/step - loss: 0.4998 - Accuracy: 0.7349 - val_loss: 0.4011 - val_Accuracy: 0.8194\n",
      "Epoch 13/100\n",
      "6/6 [==============================] - 0s 26ms/step - loss: 0.4924 - Accuracy: 0.7410 - val_loss: 0.4042 - val_Accuracy: 0.8056\n",
      "Epoch 14/100\n",
      "6/6 [==============================] - 0s 27ms/step - loss: 0.5003 - Accuracy: 0.7590 - val_loss: 0.4000 - val_Accuracy: 0.8056\n",
      "Epoch 15/100\n",
      "6/6 [==============================] - 0s 28ms/step - loss: 0.4886 - Accuracy: 0.7470 - val_loss: 0.3976 - val_Accuracy: 0.8333\n",
      "Epoch 16/100\n",
      "6/6 [==============================] - 0s 23ms/step - loss: 0.4891 - Accuracy: 0.7349 - val_loss: 0.3949 - val_Accuracy: 0.8333\n",
      "Epoch 17/100\n",
      "6/6 [==============================] - 0s 26ms/step - loss: 0.4865 - Accuracy: 0.7470 - val_loss: 0.3883 - val_Accuracy: 0.8194\n",
      "Epoch 18/100\n",
      "6/6 [==============================] - 0s 24ms/step - loss: 0.4843 - Accuracy: 0.7470 - val_loss: 0.3846 - val_Accuracy: 0.8194\n",
      "Epoch 19/100\n",
      "6/6 [==============================] - 0s 22ms/step - loss: 0.4833 - Accuracy: 0.7470 - val_loss: 0.3816 - val_Accuracy: 0.8194\n",
      "Epoch 20/100\n",
      "6/6 [==============================] - 0s 24ms/step - loss: 0.4900 - Accuracy: 0.7470 - val_loss: 0.3803 - val_Accuracy: 0.8194\n",
      "Epoch 21/100\n",
      "6/6 [==============================] - 0s 21ms/step - loss: 0.4853 - Accuracy: 0.7590 - val_loss: 0.3884 - val_Accuracy: 0.8333\n",
      "Epoch 22/100\n",
      "6/6 [==============================] - 0s 23ms/step - loss: 0.4852 - Accuracy: 0.7530 - val_loss: 0.3830 - val_Accuracy: 0.8194\n",
      "Epoch 23/100\n",
      "6/6 [==============================] - 0s 25ms/step - loss: 0.4796 - Accuracy: 0.7410 - val_loss: 0.3838 - val_Accuracy: 0.8333\n",
      "Epoch 24/100\n",
      "6/6 [==============================] - 0s 33ms/step - loss: 0.4789 - Accuracy: 0.7349 - val_loss: 0.3827 - val_Accuracy: 0.8194\n",
      "Epoch 25/100\n",
      "6/6 [==============================] - 0s 24ms/step - loss: 0.4788 - Accuracy: 0.7530 - val_loss: 0.3870 - val_Accuracy: 0.8472\n",
      "Epoch 26/100\n",
      "6/6 [==============================] - 0s 23ms/step - loss: 0.5014 - Accuracy: 0.7108 - val_loss: 0.3947 - val_Accuracy: 0.7917\n",
      "Epoch 27/100\n",
      "6/6 [==============================] - 0s 24ms/step - loss: 0.4833 - Accuracy: 0.7470 - val_loss: 0.3833 - val_Accuracy: 0.8194\n",
      "Epoch 28/100\n",
      "6/6 [==============================] - 0s 23ms/step - loss: 0.4800 - Accuracy: 0.7410 - val_loss: 0.3799 - val_Accuracy: 0.8333\n",
      "Epoch 29/100\n",
      "6/6 [==============================] - 0s 23ms/step - loss: 0.4732 - Accuracy: 0.7530 - val_loss: 0.3785 - val_Accuracy: 0.8333\n",
      "Epoch 30/100\n",
      "6/6 [==============================] - 0s 25ms/step - loss: 0.4758 - Accuracy: 0.7410 - val_loss: 0.3773 - val_Accuracy: 0.8194\n",
      "Epoch 31/100\n",
      "6/6 [==============================] - 0s 26ms/step - loss: 0.4726 - Accuracy: 0.7530 - val_loss: 0.3750 - val_Accuracy: 0.8194\n",
      "Epoch 32/100\n",
      "6/6 [==============================] - 0s 25ms/step - loss: 0.4736 - Accuracy: 0.7651 - val_loss: 0.3734 - val_Accuracy: 0.8194\n",
      "Epoch 33/100\n",
      "6/6 [==============================] - 0s 24ms/step - loss: 0.4751 - Accuracy: 0.7470 - val_loss: 0.3852 - val_Accuracy: 0.8333\n",
      "Epoch 34/100\n",
      "6/6 [==============================] - 0s 21ms/step - loss: 0.4828 - Accuracy: 0.7410 - val_loss: 0.3788 - val_Accuracy: 0.8333\n",
      "Epoch 35/100\n",
      "6/6 [==============================] - 0s 26ms/step - loss: 0.4732 - Accuracy: 0.7530 - val_loss: 0.3816 - val_Accuracy: 0.8056\n",
      "Epoch 36/100\n",
      "6/6 [==============================] - 0s 20ms/step - loss: 0.4762 - Accuracy: 0.7229 - val_loss: 0.3808 - val_Accuracy: 0.8472\n",
      "Epoch 37/100\n",
      "6/6 [==============================] - 0s 25ms/step - loss: 0.4740 - Accuracy: 0.7349 - val_loss: 0.3730 - val_Accuracy: 0.8333\n",
      "Epoch 38/100\n",
      "6/6 [==============================] - 0s 30ms/step - loss: 0.4691 - Accuracy: 0.7590 - val_loss: 0.3806 - val_Accuracy: 0.7917\n",
      "Epoch 39/100\n",
      "6/6 [==============================] - 0s 25ms/step - loss: 0.4825 - Accuracy: 0.7771 - val_loss: 0.3831 - val_Accuracy: 0.7917\n",
      "Epoch 40/100\n",
      "6/6 [==============================] - 0s 23ms/step - loss: 0.4764 - Accuracy: 0.7711 - val_loss: 0.3688 - val_Accuracy: 0.8333\n",
      "Epoch 41/100\n",
      "6/6 [==============================] - 0s 28ms/step - loss: 0.4677 - Accuracy: 0.7590 - val_loss: 0.3711 - val_Accuracy: 0.8194\n",
      "Epoch 42/100\n",
      "6/6 [==============================] - 0s 26ms/step - loss: 0.4655 - Accuracy: 0.7590 - val_loss: 0.3752 - val_Accuracy: 0.8194\n",
      "Epoch 43/100\n",
      "6/6 [==============================] - 0s 25ms/step - loss: 0.4709 - Accuracy: 0.7831 - val_loss: 0.3845 - val_Accuracy: 0.7917\n",
      "Epoch 44/100\n",
      "6/6 [==============================] - 0s 28ms/step - loss: 0.4663 - Accuracy: 0.7711 - val_loss: 0.3722 - val_Accuracy: 0.8333\n",
      "Epoch 45/100\n",
      "6/6 [==============================] - 0s 29ms/step - loss: 0.4690 - Accuracy: 0.7530 - val_loss: 0.3753 - val_Accuracy: 0.8472\n",
      "Epoch 46/100\n",
      "6/6 [==============================] - 0s 74ms/step - loss: 0.4655 - Accuracy: 0.7651 - val_loss: 0.3732 - val_Accuracy: 0.8194\n",
      "Epoch 47/100\n",
      "6/6 [==============================] - 0s 34ms/step - loss: 0.4860 - Accuracy: 0.7590 - val_loss: 0.3823 - val_Accuracy: 0.7917\n",
      "Epoch 48/100\n",
      "6/6 [==============================] - 0s 26ms/step - loss: 0.4694 - Accuracy: 0.7711 - val_loss: 0.3807 - val_Accuracy: 0.8472\n",
      "Epoch 49/100\n",
      "6/6 [==============================] - 0s 26ms/step - loss: 0.4782 - Accuracy: 0.7470 - val_loss: 0.3689 - val_Accuracy: 0.8194\n",
      "Epoch 50/100\n",
      "6/6 [==============================] - 0s 25ms/step - loss: 0.4596 - Accuracy: 0.7711 - val_loss: 0.3784 - val_Accuracy: 0.7917\n",
      "Epoch 51/100\n",
      "6/6 [==============================] - 0s 23ms/step - loss: 0.4729 - Accuracy: 0.7771 - val_loss: 0.3664 - val_Accuracy: 0.8056\n",
      "Epoch 52/100\n",
      "6/6 [==============================] - 0s 24ms/step - loss: 0.4593 - Accuracy: 0.7651 - val_loss: 0.3844 - val_Accuracy: 0.8333\n",
      "Epoch 53/100\n",
      "6/6 [==============================] - 0s 23ms/step - loss: 0.5221 - Accuracy: 0.6687 - val_loss: 0.3950 - val_Accuracy: 0.8333\n",
      "Epoch 54/100\n",
      "6/6 [==============================] - 0s 23ms/step - loss: 0.4592 - Accuracy: 0.7771 - val_loss: 0.4109 - val_Accuracy: 0.7778\n",
      "Epoch 55/100\n",
      "1/6 [====>.........................] - ETA: 0s - loss: 0.6901 - Accuracy: 0.6250Restoring model weights from the end of the best epoch: 25.\n",
      "6/6 [==============================] - 0s 32ms/step - loss: 0.5011 - Accuracy: 0.7470 - val_loss: 0.4151 - val_Accuracy: 0.7639\n",
      "Epoch 55: early stopping\n"
     ]
    }
   ],
   "source": [
    "model = tf.keras.models.Sequential([\n",
    "        tf.keras.layers.Dense(300, activation='relu', input_dim = 2),\n",
    "        tf.keras.layers.Dense(100, activation='relu'),\n",
    "        tf.keras.layers.Dense(50, activation='relu'),\n",
    "        tf.keras.layers.Dense(1, activation='sigmoid')\n",
    "    ])\n",
    "model.compile(loss='binary_crossentropy', optimizer='adam',metrics=['Accuracy'])\n",
    "\n",
    "history = model.fit(X_train,y_train, epochs= max_epoch, \n",
    "                    validation_data=(X_val, y_val),verbose=1, callbacks=callbacks)"
   ]
  },
  {
   "cell_type": "code",
   "execution_count": 18,
   "metadata": {},
   "outputs": [
    {
     "name": "stdout",
     "output_type": "stream",
     "text": [
      "3/3 [==============================] - 0s 5ms/step - loss: 0.3870 - Accuracy: 0.8472\n"
     ]
    },
    {
     "data": {
      "text/plain": [
       "[0.387026309967041, 0.8472222089767456]"
      ]
     },
     "execution_count": 18,
     "metadata": {},
     "output_type": "execute_result"
    }
   ],
   "source": [
    "model.evaluate(X_val,y_val)"
   ]
  },
  {
   "cell_type": "code",
   "execution_count": 21,
   "metadata": {},
   "outputs": [
    {
     "data": {
      "text/plain": [
       "[<matplotlib.lines.Line2D at 0x1f7b44fac10>]"
      ]
     },
     "execution_count": 21,
     "metadata": {},
     "output_type": "execute_result"
    },
    {
     "data": {
      "image/png": "[encoded data removed]",
      "text/plain": [
       "<Figure size 432x288 with 1 Axes>"
      ]
     },
     "metadata": {
      "needs_background": "light"
     },
     "output_type": "display_data"
    }
   ],
   "source": [
    "plt.plot(history.history['Accuracy'])"
   ]
  },
  {
   "cell_type": "code",
   "execution_count": null,
   "metadata": {},
   "outputs": [],
   "source": []
  }
 ],
 "metadata": {
  "kernelspec": {
   "display_name": "Python 3.9.10 64-bit",
   "language": "python",
   "name": "python3"
  },
  "language_info": {
   "codemirror_mode": {
    "name": "ipython",
    "version": 3
   },
   "file_extension": ".py",
   "mimetype": "text/x-python",
   "name": "python",
   "nbconvert_exporter": "python",
   "pygments_lexer": "ipython3",
   "version": "3.9.10"
  },
  "orig_nbformat": 4,
  "vscode": {
   "interpreter": {
    "hash": "cf92aa13fedf815d5c8dd192b8d835913fde3e8bc926b2a0ad6cc74ef2ba3ca2"
   }
  }
 },
 "nbformat": 4,
 "nbformat_minor": 2
}
